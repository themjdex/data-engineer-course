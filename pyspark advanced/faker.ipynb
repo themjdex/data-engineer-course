{
 "cells": [
  {
   "cell_type": "code",
   "execution_count": 70,
   "metadata": {},
   "outputs": [],
   "source": [
    "import numpy as np\n",
    "import csv\n",
    "from pyspark.sql import SparkSession\n",
    "from typing import List\n",
    "from datetime import datetime, timedelta"
   ]
  },
  {
   "cell_type": "code",
   "execution_count": 2,
   "metadata": {},
   "outputs": [
    {
     "name": "stderr",
     "output_type": "stream",
     "text": [
      "24/07/30 14:32:15 WARN Utils: Your hostname, themjdex-VirtualBox resolves to a loopback address: 127.0.1.1; using 10.0.2.15 instead (on interface enp0s3)\n",
      "24/07/30 14:32:15 WARN Utils: Set SPARK_LOCAL_IP if you need to bind to another address\n",
      "Setting default log level to \"WARN\".\n",
      "To adjust logging level use sc.setLogLevel(newLevel). For SparkR, use setLogLevel(newLevel).\n",
      "24/07/30 14:32:15 WARN NativeCodeLoader: Unable to load native-hadoop library for your platform... using builtin-java classes where applicable\n"
     ]
    }
   ],
   "source": [
    "spark = SparkSession.builder.appName('generator_synt_data').config('spark.master', 'local[*]').getOrCreate()"
   ]
  },
  {
   "cell_type": "code",
   "execution_count": 6,
   "metadata": {},
   "outputs": [],
   "source": [
    "OUTPUT_PATH = 'output/'\n",
    "NAME_DATABASE_PATH = 'utils/names.txt'\n",
    "CITIES_DATABASE_PATH = 'utils/cities.txt'"
   ]
  },
  {
   "cell_type": "code",
   "execution_count": 80,
   "metadata": {},
   "outputs": [],
   "source": [
    "class SynteticDataGenerator:\n",
    "    def __init__(self, row_count=10):\n",
    "        self.row_count = row_count\n",
    "        self.all_data = []\n",
    "        self.names = None\n",
    "        self.cities = None\n",
    "    \n",
    "    def _load_names_and_cities(self):\n",
    "        if self.names == None:\n",
    "            with open(NAME_DATABASE_PATH, mode='+r', encoding='utf-8') as file:\n",
    "                names = file.readlines()\n",
    "            self.names = [line.strip() for line in names]\n",
    "\n",
    "        if self.cities == None:\n",
    "            with open(CITIES_DATABASE_PATH, mode='+r', encoding='utf-8') as file:\n",
    "                cities = file.readlines()\n",
    "            self.cities = [line.strip() for line in cities]\n",
    "\n",
    "    @staticmethod\n",
    "    def get_random_elem(elems: List[str]) -> str:\n",
    "        return np.random.choice(elems)\n",
    "\n",
    "    @staticmethod\n",
    "    def transliterate(text: str) -> str:\n",
    "    # Определение соответствий русских букв и их транскрипции на английский\n",
    "        translit_dict = {\n",
    "            'А': 'A', 'Б': 'B', 'В': 'V', 'Г': 'G', 'Д': 'D', 'Е': 'E', 'Ё': 'E', 'Ж': 'Zh',\n",
    "            'З': 'Z', 'И': 'I', 'Й': 'Y', 'К': 'K', 'Л': 'L', 'М': 'M', 'Н': 'N', 'О': 'O',\n",
    "            'П': 'P', 'Р': 'R', 'С': 'S', 'Т': 'T', 'У': 'U', 'Ф': 'F', 'Х': 'Kh', 'Ц': 'Ts',\n",
    "            'Ч': 'Ch', 'Ш': 'Sh', 'Щ': 'Shch', 'Ы': 'Y', 'Э': 'E', 'Ю': 'Yu', 'Я': 'Ya',\n",
    "            'а': 'a', 'б': 'b', 'в': 'v', 'г': 'g', 'д': 'd', 'е': 'e', 'ё': 'e', 'ж': 'zh',\n",
    "            'з': 'z', 'и': 'i', 'й': 'y', 'к': 'k', 'л': 'l', 'м': 'm', 'н': 'n', 'о': 'o',\n",
    "            'п': 'p', 'р': 'r', 'с': 's', 'т': 't', 'у': 'u', 'ф': 'f', 'х': 'kh', 'ц': 'ts',\n",
    "            'ч': 'ch', 'ш': 'sh', 'щ': 'shch', 'ы': 'y', 'э': 'e', 'ю': 'yu', 'я': 'ya'\n",
    "        }\n",
    "        \n",
    "        # Транслитерация текста\n",
    "        return ''.join([translit_dict.get(char, char) for char in text])\n",
    "\n",
    "\n",
    "    def collect_data(self):\n",
    "        self._load_names_and_cities()\n",
    "        ids = [i for i in range(self.row_count)]\n",
    "        names = [self.get_random_elem(self.names) for _ in range(self.row_count)]\n",
    "        cities = [self.get_random_elem(self.cities) for _ in range(self.row_count)]\n",
    "        emails = []\n",
    "        for i, elem in enumerate(names):\n",
    "            emails.append(self.transliterate(elem) + str(i) + self.get_random_elem(['@yandex.ru', '@gmail.com', '@yahoo.com']))\n",
    "        \n",
    "        ages = [np.random.randint(18, 96) for _ in range(self.row_count)]\n",
    "        salaries = [np.random.randint(10000, 50001) for _ in range(self.row_count)]\n",
    "\n",
    "        registration_dates = []\n",
    "        current_date = datetime.now()\n",
    "        days_range = [i for i in range(1,365)]\n",
    "        for elem in ages:\n",
    "            registration_dates.append((current_date - timedelta(days=int(self.get_random_elem(days_range)))).strftime('%Y-%m-%d'))\n",
    "\n",
    "        for i in range(len(ids)):\n",
    "            row = {'id': ids[i],\n",
    "                   'name': names[i],\n",
    "                   'email': emails[i],\n",
    "                   'city': cities[i],\n",
    "                   'age': ages[i],\n",
    "                   'salary': salaries[i],\n",
    "                   'registration_date': registration_dates[i]\n",
    "                   }\n",
    "            self.all_data.append(row)\n",
    "\n",
    "    def get_data(self):\n",
    "        return self.all_data\n",
    "    \n",
    "    def to_csv(self):\n",
    "        fieldnames = ['id','name', 'email', 'city', 'age', 'salary', 'registration_date']\n",
    "        path = f'{OUTPUT_PATH}{datetime.now().strftime('%Y-%m-%d')}'\n",
    "        with open(f'{path}-dev.csv', mode='a', newline='', encoding='utf-8') as csv_file:\n",
    "            writer = csv.DictWriter(csv_file, fieldnames=fieldnames, delimiter=',')\n",
    "            writer.writeheader()\n",
    "            # Запись данных\n",
    "            for row in self.all_data:\n",
    "                writer.writerow(row)\n",
    "\n",
    "    "
   ]
  },
  {
   "cell_type": "code",
   "execution_count": 83,
   "metadata": {},
   "outputs": [],
   "source": [
    "gen = SynteticDataGenerator(20)\n",
    "gen.collect_data()"
   ]
  },
  {
   "cell_type": "code",
   "execution_count": 84,
   "metadata": {},
   "outputs": [],
   "source": [
    "gen.to_csv()"
   ]
  },
  {
   "cell_type": "code",
   "execution_count": null,
   "metadata": {},
   "outputs": [],
   "source": []
  }
 ],
 "metadata": {
  "kernelspec": {
   "display_name": "de_course",
   "language": "python",
   "name": "python3"
  },
  "language_info": {
   "codemirror_mode": {
    "name": "ipython",
    "version": 3
   },
   "file_extension": ".py",
   "mimetype": "text/x-python",
   "name": "python",
   "nbconvert_exporter": "python",
   "pygments_lexer": "ipython3",
   "version": "3.12.3"
  }
 },
 "nbformat": 4,
 "nbformat_minor": 2
}
