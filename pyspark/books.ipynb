{
 "cells": [
  {
   "cell_type": "code",
   "execution_count": 1,
   "metadata": {},
   "outputs": [],
   "source": [
    "from pyspark.sql import SparkSession\n",
    "from pyspark.sql import functions as F"
   ]
  },
  {
   "cell_type": "code",
   "execution_count": 2,
   "metadata": {},
   "outputs": [
    {
     "name": "stderr",
     "output_type": "stream",
     "text": [
      "24/07/23 16:29:04 WARN Utils: Your hostname, themjdex-VirtualBox resolves to a loopback address: 127.0.1.1; using 10.0.2.15 instead (on interface enp0s3)\n",
      "24/07/23 16:29:04 WARN Utils: Set SPARK_LOCAL_IP if you need to bind to another address\n",
      "Setting default log level to \"WARN\".\n",
      "To adjust logging level use sc.setLogLevel(newLevel). For SparkR, use setLogLevel(newLevel).\n",
      "24/07/23 16:29:05 WARN NativeCodeLoader: Unable to load native-hadoop library for your platform... using builtin-java classes where applicable\n"
     ]
    }
   ],
   "source": [
    "spark = SparkSession.builder.appName(\"books\").config('spark.master', 'local[*]').getOrCreate()"
   ]
  },
  {
   "cell_type": "code",
   "execution_count": 3,
   "metadata": {},
   "outputs": [],
   "source": [
    "books = spark.read.csv('data/books.csv', header=True, inferSchema=True)\n",
    "authors = spark.read.csv('data/authors.csv', header=True, inferSchema=True)"
   ]
  },
  {
   "cell_type": "code",
   "execution_count": 4,
   "metadata": {},
   "outputs": [
    {
     "name": "stdout",
     "output_type": "stream",
     "text": [
      "root\n",
      " |-- author_id: integer (nullable = true)\n",
      " |-- name: string (nullable = true)\n",
      " |-- birth_date: date (nullable = true)\n",
      " |-- country: string (nullable = true)\n",
      "\n"
     ]
    }
   ],
   "source": [
    "authors.printSchema()"
   ]
  },
  {
   "cell_type": "code",
   "execution_count": 5,
   "metadata": {},
   "outputs": [
    {
     "name": "stdout",
     "output_type": "stream",
     "text": [
      "root\n",
      " |-- book_id: integer (nullable = true)\n",
      " |-- title: string (nullable = true)\n",
      " |-- author_id: integer (nullable = true)\n",
      " |-- genre: string (nullable = true)\n",
      " |-- price: double (nullable = true)\n",
      " |-- publish_date: date (nullable = true)\n",
      "\n"
     ]
    }
   ],
   "source": [
    "books.printSchema()"
   ]
  },
  {
   "cell_type": "code",
   "execution_count": 6,
   "metadata": {},
   "outputs": [
    {
     "name": "stdout",
     "output_type": "stream",
     "text": [
      "+---------+-------+-------+-----------+-----+------------+---------+----------+---------+\n",
      "|author_id|book_id|  title|      genre|price|publish_date|     name|birth_date|  country|\n",
      "+---------+-------+-------+-----------+-----+------------+---------+----------+---------+\n",
      "|        2|      1| Book_1|    Mystery|73.57|  1980-12-31| Author_2|1965-12-31|   Canada|\n",
      "|        1|      2| Book_2|Non-Fiction| 41.1|  1982-12-31| Author_1|1960-12-31|    India|\n",
      "|       10|      3| Book_3|    Fiction|10.63|  1984-12-31|Author_10|2005-12-31|    India|\n",
      "|        9|      4| Book_4|Non-Fiction|46.31|  1986-12-31| Author_9|2000-12-31|Australia|\n",
      "|        7|      5| Book_5|    Science|31.13|  1988-12-31| Author_7|1990-12-31|      USA|\n",
      "|        4|      6| Book_6|Non-Fiction| 83.7|  1990-12-31| Author_4|1975-12-31|       UK|\n",
      "|        6|      7| Book_7|Non-Fiction|40.36|  1992-12-31| Author_6|1985-12-31|      USA|\n",
      "|        2|      8| Book_8|Non-Fiction|84.48|  1994-12-31| Author_2|1965-12-31|   Canada|\n",
      "|        7|      9| Book_9|    Fantasy|10.05|  1996-12-31| Author_7|1990-12-31|      USA|\n",
      "|        2|     10|Book_10|    Science| 37.7|  1998-12-31| Author_2|1965-12-31|   Canada|\n",
      "|       10|     11|Book_11|Non-Fiction| 31.7|  2000-12-31|Author_10|2005-12-31|    India|\n",
      "|        8|     12|Book_12|Non-Fiction|31.02|  2002-12-31| Author_8|1995-12-31|Australia|\n",
      "|        8|     13|Book_13|Non-Fiction|16.14|  2004-12-31| Author_8|1995-12-31|Australia|\n",
      "|        1|     14|Book_14|    Fiction|26.84|  2006-12-31| Author_1|1960-12-31|    India|\n",
      "|        8|     15|Book_15|    Fantasy| 60.0|  2008-12-31| Author_8|1995-12-31|Australia|\n",
      "|        2|     16|Book_16|    Fiction|36.22|  2010-12-31| Author_2|1965-12-31|   Canada|\n",
      "|        6|     17|Book_17|    Fantasy|47.57|  2012-12-31| Author_6|1985-12-31|      USA|\n",
      "|        1|     18|Book_18|Non-Fiction|43.92|  2014-12-31| Author_1|1960-12-31|    India|\n",
      "|        5|     19|Book_19|    Science|88.83|  2016-12-31| Author_5|1980-12-31|      USA|\n",
      "|        7|     20|Book_20|    Mystery|91.48|  2018-12-31| Author_7|1990-12-31|      USA|\n",
      "+---------+-------+-------+-----------+-----+------------+---------+----------+---------+\n",
      "\n"
     ]
    }
   ],
   "source": [
    "# Объедините таблицы books и authors по author_id.\n",
    "df = books.join(authors, 'author_id', 'inner').withColumnRenamed('author_id', 'author_id')\n",
    "df.show()"
   ]
  },
  {
   "cell_type": "code",
   "execution_count": 7,
   "metadata": {},
   "outputs": [
    {
     "name": "stdout",
     "output_type": "stream",
     "text": [
      "+---------+--------+----------+\n",
      "|author_id|    name|sum(price)|\n",
      "+---------+--------+----------+\n",
      "|        2|Author_2|    231.97|\n",
      "|        7|Author_7|    132.66|\n",
      "|        1|Author_1|    111.86|\n",
      "|        8|Author_8|    107.16|\n",
      "|        5|Author_5|     88.83|\n",
      "+---------+--------+----------+\n",
      "\n"
     ]
    }
   ],
   "source": [
    "# Найдите топ-5 авторов, книги которых принесли наибольшую выручку.\n",
    "top_authors = df.groupBy('author_id').sum('price'). \\\n",
    "                sort(F.desc('sum(price)')).limit(5)\n",
    "\n",
    "top_authors.join(df, 'author_id', 'inner').select('author_id', 'name', 'sum(price)').distinct().sort(F.desc('sum(price)')).show()"
   ]
  },
  {
   "cell_type": "code",
   "execution_count": 8,
   "metadata": {},
   "outputs": [
    {
     "name": "stdout",
     "output_type": "stream",
     "text": [
      "+-----------+-----+\n",
      "|      genre|count|\n",
      "+-----------+-----+\n",
      "|    Science|    3|\n",
      "|    Fiction|    3|\n",
      "|    Fantasy|    3|\n",
      "|    Mystery|    2|\n",
      "|Non-Fiction|    9|\n",
      "+-----------+-----+\n",
      "\n"
     ]
    }
   ],
   "source": [
    "# Найдите количество книг в каждом жанре.\n",
    "df.groupBy('genre').count().show()"
   ]
  },
  {
   "cell_type": "code",
   "execution_count": 9,
   "metadata": {},
   "outputs": [
    {
     "name": "stdout",
     "output_type": "stream",
     "text": [
      "+---------+---------+-----------------+\n",
      "|author_id|     name|       avg(price)|\n",
      "+---------+---------+-----------------+\n",
      "|        5| Author_5|            88.83|\n",
      "|        4| Author_4|             83.7|\n",
      "|        2| Author_2|          57.9925|\n",
      "|        9| Author_9|            46.31|\n",
      "|        7| Author_7|            44.22|\n",
      "|        6| Author_6|           43.965|\n",
      "|        1| Author_1|37.28666666666667|\n",
      "|        8| Author_8|            35.72|\n",
      "|       10|Author_10|           21.165|\n",
      "+---------+---------+-----------------+\n",
      "\n"
     ]
    }
   ],
   "source": [
    "# Подсчитайте среднюю цену книг по каждому автору.\n",
    "avg_authors = df.groupBy('author_id').avg('price')\n",
    "\n",
    "avg_authors.join(df, 'author_id', 'inner'). \\\n",
    "select('author_id', 'name', 'avg(price)'). \\\n",
    "distinct(). \\\n",
    "sort(F.desc('avg(price)')). \\\n",
    "show()"
   ]
  },
  {
   "cell_type": "code",
   "execution_count": 10,
   "metadata": {},
   "outputs": [
    {
     "name": "stdout",
     "output_type": "stream",
     "text": [
      "+---------+-------+-------+-----------+-----+------------+--------+----------+---------+\n",
      "|author_id|book_id|  title|      genre|price|publish_date|    name|birth_date|  country|\n",
      "+---------+-------+-------+-----------+-----+------------+--------+----------+---------+\n",
      "|        7|     20|Book_20|    Mystery|91.48|  2018-12-31|Author_7|1990-12-31|      USA|\n",
      "|        5|     19|Book_19|    Science|88.83|  2016-12-31|Author_5|1980-12-31|      USA|\n",
      "|        8|     15|Book_15|    Fantasy| 60.0|  2008-12-31|Author_8|1995-12-31|Australia|\n",
      "|        6|     17|Book_17|    Fantasy|47.57|  2012-12-31|Author_6|1985-12-31|      USA|\n",
      "|        1|     18|Book_18|Non-Fiction|43.92|  2014-12-31|Author_1|1960-12-31|    India|\n",
      "|        2|     16|Book_16|    Fiction|36.22|  2010-12-31|Author_2|1965-12-31|   Canada|\n",
      "|        8|     12|Book_12|Non-Fiction|31.02|  2002-12-31|Author_8|1995-12-31|Australia|\n",
      "|        1|     14|Book_14|    Fiction|26.84|  2006-12-31|Author_1|1960-12-31|    India|\n",
      "|        8|     13|Book_13|Non-Fiction|16.14|  2004-12-31|Author_8|1995-12-31|Australia|\n",
      "+---------+-------+-------+-----------+-----+------------+--------+----------+---------+\n",
      "\n"
     ]
    }
   ],
   "source": [
    "# Найдите книги, опубликованные после 2000 года, и отсортируйте их по цене\n",
    "df.filter(F.year('publish_date') > '2000').sort(F.desc('price')).show()"
   ]
  },
  {
   "cell_type": "code",
   "execution_count": 11,
   "metadata": {},
   "outputs": [],
   "source": [
    "spark.stop()"
   ]
  },
  {
   "cell_type": "code",
   "execution_count": null,
   "metadata": {},
   "outputs": [],
   "source": []
  }
 ],
 "metadata": {
  "kernelspec": {
   "display_name": "de_course",
   "language": "python",
   "name": "python3"
  },
  "language_info": {
   "codemirror_mode": {
    "name": "ipython",
    "version": 3
   },
   "file_extension": ".py",
   "mimetype": "text/x-python",
   "name": "python",
   "nbconvert_exporter": "python",
   "pygments_lexer": "ipython3",
   "version": "3.12.3"
  }
 },
 "nbformat": 4,
 "nbformat_minor": 2
}
