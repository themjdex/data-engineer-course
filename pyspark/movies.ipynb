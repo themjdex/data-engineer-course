{
 "cells": [
  {
   "cell_type": "code",
   "execution_count": 1,
   "metadata": {},
   "outputs": [],
   "source": [
    "from pyspark.sql import SparkSession\n",
    "from pyspark.sql import functions as F"
   ]
  },
  {
   "cell_type": "code",
   "execution_count": 2,
   "metadata": {},
   "outputs": [
    {
     "name": "stderr",
     "output_type": "stream",
     "text": [
      "24/07/24 10:18:30 WARN Utils: Your hostname, themjdex-VirtualBox resolves to a loopback address: 127.0.1.1; using 10.0.2.15 instead (on interface enp0s3)\n",
      "24/07/24 10:18:30 WARN Utils: Set SPARK_LOCAL_IP if you need to bind to another address\n",
      "Setting default log level to \"WARN\".\n",
      "To adjust logging level use sc.setLogLevel(newLevel). For SparkR, use setLogLevel(newLevel).\n",
      "24/07/24 10:18:31 WARN NativeCodeLoader: Unable to load native-hadoop library for your platform... using builtin-java classes where applicable\n"
     ]
    }
   ],
   "source": [
    "spark = SparkSession.builder.appName(\"movies\").config('spark.master', 'local[*]').getOrCreate()"
   ]
  },
  {
   "cell_type": "code",
   "execution_count": 4,
   "metadata": {},
   "outputs": [],
   "source": [
    "actors_df = spark.read.csv('data/actors.csv', header=True, inferSchema=True)\n",
    "movie_actors_df = spark.read.csv('data/movie_actors.csv', header=True, inferSchema=True)\n",
    "movies_df = spark.read.csv('data/movies.csv', header=True, inferSchema=True)"
   ]
  },
  {
   "cell_type": "code",
   "execution_count": 5,
   "metadata": {},
   "outputs": [],
   "source": [
    "# Создайте временные таблицы для данных о фильмах, актерах и связях между ними\n",
    "actors_df.createOrReplaceTempView('actors')\n",
    "movie_actors_df.createOrReplaceTempView('movie_actors')\n",
    "movies_df.createOrReplaceTempView('movies')"
   ]
  },
  {
   "cell_type": "code",
   "execution_count": 6,
   "metadata": {},
   "outputs": [
    {
     "name": "stdout",
     "output_type": "stream",
     "text": [
      "+--------+-------+----------+-------+\n",
      "|actor_id|   name|birth_date|country|\n",
      "+--------+-------+----------+-------+\n",
      "|       1|Actor_1|1960-12-31| Canada|\n",
      "|       2|Actor_2|1962-12-31|     UK|\n",
      "|       3|Actor_3|1964-12-31|     UK|\n",
      "|       4|Actor_4|1966-12-31|     UK|\n",
      "|       5|Actor_5|1968-12-31|  India|\n",
      "+--------+-------+----------+-------+\n",
      "\n"
     ]
    }
   ],
   "source": [
    "spark.sql(\"SELECT * FROM actors LIMIT 5\").show()"
   ]
  },
  {
   "cell_type": "code",
   "execution_count": 7,
   "metadata": {},
   "outputs": [
    {
     "name": "stdout",
     "output_type": "stream",
     "text": [
      "+--------+--------+\n",
      "|movie_id|actor_id|\n",
      "+--------+--------+\n",
      "|       1|      25|\n",
      "|      16|       5|\n",
      "|       6|      16|\n",
      "|      16|      11|\n",
      "|      14|      21|\n",
      "+--------+--------+\n",
      "\n"
     ]
    }
   ],
   "source": [
    "spark.sql(\"SELECT * FROM movie_actors LIMIT 5\").show()"
   ]
  },
  {
   "cell_type": "code",
   "execution_count": 8,
   "metadata": {},
   "outputs": [
    {
     "name": "stdout",
     "output_type": "stream",
     "text": [
      "+--------+-------+------+------------+-------------+\n",
      "|movie_id|  title| genre|release_date|       budget|\n",
      "+--------+-------+------+------------+-------------+\n",
      "|       1|Movie_1|Horror|  2000-12-31|8.660058311E7|\n",
      "|       2|Movie_2|Comedy|  2001-12-31|1.274740083E7|\n",
      "|       3|Movie_3|Action|  2002-12-31| 1.80157747E7|\n",
      "|       4|Movie_4| Drama|  2003-12-31|4.817612061E7|\n",
      "|       5|Movie_5| Drama|  2004-12-31| 7.40501611E7|\n",
      "+--------+-------+------+------------+-------------+\n",
      "\n"
     ]
    }
   ],
   "source": [
    "spark.sql(\"SELECT * FROM movies LIMIT 5\").show()"
   ]
  },
  {
   "cell_type": "code",
   "execution_count": 10,
   "metadata": {},
   "outputs": [
    {
     "name": "stdout",
     "output_type": "stream",
     "text": [
      "+------+----------+\n",
      "| genre|num_movies|\n",
      "+------+----------+\n",
      "| Drama|         6|\n",
      "|Action|         6|\n",
      "|Comedy|         4|\n",
      "|Horror|         2|\n",
      "|Sci-Fi|         2|\n",
      "+------+----------+\n",
      "\n"
     ]
    }
   ],
   "source": [
    "# Найдите топ-5 жанров по количеству фильмов\n",
    "spark.sql(\"SELECT genre, COUNT(title) AS num_movies FROM movies GROUP BY genre ORDER BY num_movies DESC\").show()"
   ]
  },
  {
   "cell_type": "code",
   "execution_count": 15,
   "metadata": {},
   "outputs": [],
   "source": [
    "join_df = spark.sql(\"\"\"\n",
    "                    SELECT m.movie_id, m.title, m.genre, m.release_date, m.budget, a.actor_id, a.name, a.birth_date, a.country  \n",
    "                    FROM movies AS m\n",
    "                    JOIN movie_actors AS ma ON m.movie_id = ma.movie_id\n",
    "                    JOIN actors AS a ON ma.actor_id = a.actor_id\n",
    "                    \"\"\")\n",
    "join_df.createOrReplaceTempView('join_table')"
   ]
  },
  {
   "cell_type": "code",
   "execution_count": 19,
   "metadata": {},
   "outputs": [
    {
     "name": "stdout",
     "output_type": "stream",
     "text": [
      "+--------+----------+\n",
      "|    name|num_movies|\n",
      "+--------+----------+\n",
      "|Actor_17|         5|\n",
      "+--------+----------+\n",
      "\n"
     ]
    }
   ],
   "source": [
    "# Найдите актера с наибольшим количеством фильмов\n",
    "spark.sql(\"SELECT name, COUNT(movie_id) AS num_movies FROM join_table GROUP BY name ORDER BY num_movies DESC LIMIT 1\").show()"
   ]
  },
  {
   "cell_type": "code",
   "execution_count": 22,
   "metadata": {},
   "outputs": [
    {
     "name": "stdout",
     "output_type": "stream",
     "text": [
      "+------+--------------------+\n",
      "| genre|          avg_budget|\n",
      "+------+--------------------+\n",
      "| Drama| 6.256277161307693E7|\n",
      "|Horror| 8.711155335875002E7|\n",
      "|Comedy| 4.883974718111112E7|\n",
      "|Action|2.5901128669999998E7|\n",
      "|Sci-Fi|       7.929615029E7|\n",
      "+------+--------------------+\n",
      "\n"
     ]
    }
   ],
   "source": [
    "# Подсчитайте средний бюджет фильмов по жанрам\n",
    "spark.sql(\"SELECT genre, AVG(budget) AS avg_budget FROM join_table GROUP BY genre\").show()"
   ]
  },
  {
   "cell_type": "code",
   "execution_count": 38,
   "metadata": {},
   "outputs": [
    {
     "name": "stdout",
     "output_type": "stream",
     "text": [
      "+--------+---------+---+\n",
      "|   title|  country|cnt|\n",
      "+--------+---------+---+\n",
      "| Movie_7|    India|  2|\n",
      "| Movie_3|      USA|  2|\n",
      "|Movie_10|       UK|  2|\n",
      "|Movie_15|    India|  2|\n",
      "|Movie_18|Australia|  2|\n",
      "| Movie_1|    India|  3|\n",
      "| Movie_2|      USA|  2|\n",
      "| Movie_7|      USA|  2|\n",
      "|Movie_10|      USA|  2|\n",
      "+--------+---------+---+\n",
      "\n"
     ]
    }
   ],
   "source": [
    "#Найдите фильмы, в которых снялось более одного актера из одной страны\n",
    "spark.sql(\"SELECT title, country, COUNT(actor_id) AS cnt FROM join_table GROUP BY title, country HAVING cnt > 1\").show()"
   ]
  },
  {
   "cell_type": "code",
   "execution_count": null,
   "metadata": {},
   "outputs": [],
   "source": []
  }
 ],
 "metadata": {
  "kernelspec": {
   "display_name": "de_course",
   "language": "python",
   "name": "python3"
  },
  "language_info": {
   "codemirror_mode": {
    "name": "ipython",
    "version": 3
   },
   "file_extension": ".py",
   "mimetype": "text/x-python",
   "name": "python",
   "nbconvert_exporter": "python",
   "pygments_lexer": "ipython3",
   "version": "3.12.3"
  }
 },
 "nbformat": 4,
 "nbformat_minor": 2
}
