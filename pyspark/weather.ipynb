{
 "cells": [
  {
   "cell_type": "code",
   "execution_count": 1,
   "metadata": {},
   "outputs": [],
   "source": [
    "from pyspark.sql import SparkSession\n",
    "from pyspark.sql import functions as F"
   ]
  },
  {
   "cell_type": "code",
   "execution_count": 2,
   "metadata": {},
   "outputs": [
    {
     "name": "stderr",
     "output_type": "stream",
     "text": [
      "24/07/23 16:34:21 WARN Utils: Your hostname, themjdex-VirtualBox resolves to a loopback address: 127.0.1.1; using 10.0.2.15 instead (on interface enp0s3)\n",
      "24/07/23 16:34:21 WARN Utils: Set SPARK_LOCAL_IP if you need to bind to another address\n",
      "Setting default log level to \"WARN\".\n",
      "To adjust logging level use sc.setLogLevel(newLevel). For SparkR, use setLogLevel(newLevel).\n",
      "24/07/23 16:34:22 WARN NativeCodeLoader: Unable to load native-hadoop library for your platform... using builtin-java classes where applicable\n"
     ]
    }
   ],
   "source": [
    "# Создание SparkSession\n",
    "spark = SparkSession.builder.appName(\"weather\").config('spark.master', 'local[*]').getOrCreate()"
   ]
  },
  {
   "cell_type": "code",
   "execution_count": 3,
   "metadata": {},
   "outputs": [
    {
     "name": "stderr",
     "output_type": "stream",
     "text": [
      "                                                                                \r"
     ]
    }
   ],
   "source": [
    "df = spark.read.csv('data/weather_data.csv', header=True, inferSchema=True)"
   ]
  },
  {
   "cell_type": "code",
   "execution_count": 4,
   "metadata": {},
   "outputs": [
    {
     "name": "stdout",
     "output_type": "stream",
     "text": [
      "root\n",
      " |-- station_id: string (nullable = true)\n",
      " |-- date: date (nullable = true)\n",
      " |-- temperature: double (nullable = true)\n",
      " |-- precipitation: double (nullable = true)\n",
      " |-- wind_speed: double (nullable = true)\n",
      "\n"
     ]
    }
   ],
   "source": [
    "df.printSchema()"
   ]
  },
  {
   "cell_type": "code",
   "execution_count": 5,
   "metadata": {},
   "outputs": [
    {
     "data": {
      "text/plain": [
       "1000"
      ]
     },
     "execution_count": 5,
     "metadata": {},
     "output_type": "execute_result"
    }
   ],
   "source": [
    "df.count()"
   ]
  },
  {
   "cell_type": "code",
   "execution_count": 6,
   "metadata": {},
   "outputs": [
    {
     "name": "stdout",
     "output_type": "stream",
     "text": [
      "+----------+------------------+\n",
      "|      date|       temperature|\n",
      "+----------+------------------+\n",
      "|2021-08-20|39.982828249354846|\n",
      "|2023-12-02| 39.96797489293784|\n",
      "|2022-03-28|  39.8246894248997|\n",
      "|2019-02-11| 39.76737697836647|\n",
      "|2020-06-10| 39.69147838355929|\n",
      "+----------+------------------+\n",
      "only showing top 5 rows\n",
      "\n"
     ]
    }
   ],
   "source": [
    "# Найдите топ-5 самых жарких дней за все время наблюдений\n",
    "df.select('date', 'temperature').orderBy(df.temperature.desc()).show(5)"
   ]
  },
  {
   "cell_type": "code",
   "execution_count": 7,
   "metadata": {},
   "outputs": [
    {
     "name": "stdout",
     "output_type": "stream",
     "text": [
      "+----------+------------------+\n",
      "|station_id|sum(precipitation)|\n",
      "+----------+------------------+\n",
      "| station_5| 642.9302626767898|\n",
      "+----------+------------------+\n",
      "only showing top 1 row\n",
      "\n"
     ]
    }
   ],
   "source": [
    "# Найдите метеостанцию с наибольшим количеством осадков за последний год\n",
    "df.select('station_id', 'precipitation'). \\\n",
    "    filter((df['date'] >= '2023-01-01') & (df['date'] <= '2023-12-31')). \\\n",
    "    groupBy('station_id').sum(). \\\n",
    "    sort(F.desc('sum(precipitation)')). \\\n",
    "    show(1)"
   ]
  },
  {
   "cell_type": "code",
   "execution_count": 8,
   "metadata": {},
   "outputs": [
    {
     "name": "stdout",
     "output_type": "stream",
     "text": [
      "+-----+------------------+\n",
      "|month|  avg(temperature)|\n",
      "+-----+------------------+\n",
      "|    1|11.356518462550754|\n",
      "|    2| 9.067229891101926|\n",
      "|    3| 7.244080205633994|\n",
      "|    4|12.024529009744693|\n",
      "|    5| 9.902883346912718|\n",
      "|    6|13.421092297254138|\n",
      "|    7|6.1857183016954576|\n",
      "|    8|  10.9678002814186|\n",
      "|    9| 9.596744236573942|\n",
      "|   10|  9.09884344821895|\n",
      "|   11| 7.265889994697494|\n",
      "|   12|11.218592100674337|\n",
      "+-----+------------------+\n",
      "\n"
     ]
    }
   ],
   "source": [
    "# Подсчитайте среднюю температуру по месяцам за все время наблюдений\n",
    "df.groupBy(F.month('date').alias('month')).avg('temperature').sort('month').show()"
   ]
  },
  {
   "cell_type": "code",
   "execution_count": 9,
   "metadata": {},
   "outputs": [],
   "source": [
    "spark.stop()"
   ]
  }
 ],
 "metadata": {
  "kernelspec": {
   "display_name": "de_course",
   "language": "python",
   "name": "python3"
  },
  "language_info": {
   "codemirror_mode": {
    "name": "ipython",
    "version": 3
   },
   "file_extension": ".py",
   "mimetype": "text/x-python",
   "name": "python",
   "nbconvert_exporter": "python",
   "pygments_lexer": "ipython3",
   "version": "3.12.3"
  }
 },
 "nbformat": 4,
 "nbformat_minor": 2
}
